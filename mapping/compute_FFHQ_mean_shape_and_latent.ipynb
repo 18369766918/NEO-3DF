{
 "cells": [
  {
   "cell_type": "code",
   "execution_count": 1,
   "metadata": {},
   "outputs": [
    {
     "data": {
      "text/plain": [
       "'\\nWe use CelebA dataset as training data in this experiment\\n--------------------------------------------------------\\nMethod Brief Description:\\nTraining STEPS:\\n\\n\\n\\n--------------------------------------------------------\\nAuthor: Peizhi Yan\\nDate Updated: Sep.-21-2021\\n'"
      ]
     },
     "execution_count": 1,
     "metadata": {},
     "output_type": "execute_result"
    }
   ],
   "source": [
    "\"\"\"\n",
    "Author: Peizhi Yan\n",
    "Date Updated: Sep.-21-2021\n",
    "\"\"\""
   ]
  },
  {
   "cell_type": "code",
   "execution_count": 1,
   "metadata": {},
   "outputs": [
    {
     "name": "stderr",
     "output_type": "stream",
     "text": [
      "c:\\users\\yanpe\\appdata\\local\\programs\\python\\python36\\lib\\site-packages\\numpy\\core\\__init__.py:29: UserWarning: loaded more than 1 DLL from .libs:\n",
      "c:\\users\\yanpe\\appdata\\local\\programs\\python\\python36\\lib\\site-packages\\numpy\\.libs\\libopenblas.TXA6YQSD3GCQQC22GEQ54J2UDCXDXHWN.gfortran-win_amd64.dll\n",
      "c:\\users\\yanpe\\appdata\\local\\programs\\python\\python36\\lib\\site-packages\\numpy\\.libs\\libopenblas.WCDJNK7YVMPZQ2ME2ZZHJJRJ3JIKNDB7.gfortran-win_amd64.dll\n",
      "  stacklevel=1)\n"
     ]
    },
    {
     "name": "stdout",
     "output_type": "stream",
     "text": [
      "CUDA is available. Device:  NVIDIA GeForce RTX 3070\n"
     ]
    }
   ],
   "source": [
    "import sys\n",
    "import gc\n",
    "import os\n",
    "from tqdm import tqdm\n",
    "import time\n",
    "\n",
    "import numpy as np\n",
    "import pickle\n",
    "import scipy.io as sio\n",
    "from scipy.io import loadmat\n",
    "import matplotlib.pyplot as plt\n",
    "import cv2\n",
    "import torchvision.transforms as transforms\n",
    "from PIL import Image\n",
    "\n",
    "\n",
    "# Pytorch 1.9\n",
    "import torch\n",
    "import torch.nn as nn\n",
    "import torch.nn.functional as F\n",
    "import torch.utils\n",
    "import torch.distributions\n",
    "\n",
    "# Pytorch3d\n",
    "from pytorch3d.structures import Meshes\n",
    "from pytorch3d.renderer import (\n",
    "    look_at_view_transform,\n",
    "    FoVPerspectiveCameras,\n",
    "    PointLights,\n",
    "    RasterizationSettings,\n",
    "    MeshRenderer,\n",
    "    MeshRasterizer,\n",
    "    SoftPhongShader,\n",
    "    TexturesVertex,\n",
    "    blending\n",
    ")\n",
    "\n",
    "import open3d as o3d\n",
    "\n",
    "# facenet-pytorch 2.5.2\n",
    "from facenet_pytorch import MTCNN, InceptionResnetV1\n",
    "\n",
    "# face-alignment 1.3.4\n",
    "import face_alignment\n",
    "\n",
    "#######################################\n",
    "## Setup PyTorch\n",
    "if torch.cuda.is_available():\n",
    "    device = torch.device(\"cuda:0\")\n",
    "    torch.cuda.set_device(device)\n",
    "    print('CUDA is available. Device: ', torch.cuda.get_device_name(0))\n",
    "else:\n",
    "    device = torch.device(\"cpu\")\n",
    "    print('CUDA is NOT available. Use CPU instead.')\n",
    "    \n",
    "    "
   ]
  },
  {
   "cell_type": "code",
   "execution_count": 2,
   "metadata": {},
   "outputs": [
    {
     "name": "stdout",
     "output_type": "stream",
     "text": [
      "68422\n"
     ]
    }
   ],
   "source": [
    "shape_path = '..dDatasets/FFHQ/raw_bfm_shape/{}.npy'\n",
    "\n",
    "\n",
    "img_indices = []\n",
    "for fname in os.listdir('../datasets/FFHQ/raw_bfm_shape/'):\n",
    "    if fname.endswith('.npy'):\n",
    "         img_indices.append(fname[:-4])\n",
    "\n",
    "print(len(img_indices))\n"
   ]
  },
  {
   "cell_type": "code",
   "execution_count": 3,
   "metadata": {},
   "outputs": [
    {
     "name": "stdout",
     "output_type": "stream",
     "text": [
      "{1, 2, 3, 4, 5, 6}\n",
      "BFM model loaded\n",
      "\n",
      "S_overall  n_vert:  35709\n",
      "S_eyebrows  n_vert:  444\n",
      "S_eyes  n_vert:  586\n",
      "S_llip  n_vert:  309\n",
      "S_nose  n_vert:  1711\n",
      "S_ulip  n_vert:  576\n"
     ]
    }
   ],
   "source": [
    "\"\"\"\n",
    " 1: face skin\n",
    " 2: eye brows\n",
    " 3: eyes\n",
    " 4: nose\n",
    " 5: upper lip\n",
    " 6: lower lip\n",
    "\"\"\"\n",
    "label_map = {\n",
    "    'skin': 1,\n",
    "    'eye_brow': 2,\n",
    "    'eye': 3,\n",
    "    'nose': 4,\n",
    "    'u_lip': 5,\n",
    "    'l_lip': 6\n",
    "}\n",
    "\n",
    "## Load the face parsing labels (per-vertex)\n",
    "vert_labels = np.load('../BFM/bfm_vertex_labels.npy')\n",
    "print(set(vert_labels))\n",
    "\n",
    "\n",
    "## Load the BFM model\n",
    "import pickle\n",
    "with open('../BFM/bfm09.pkl', 'rb') as f:\n",
    "    bfm = pickle.load(f)\n",
    "print('BFM model loaded\\n')\n",
    "\n",
    "## Triangal Facets\n",
    "Faces = bfm['tri'] - 1 ## -1 is critical !!!\n",
    "\n",
    "# find the vertices of part\n",
    "part_vertices = {\n",
    "    'S_overall':[],\n",
    "    #'S_rest':[],\n",
    "    'S_eyebrows':[],\n",
    "    'S_eyes':[],\n",
    "    'S_llip':[],\n",
    "    'S_nose':[],\n",
    "    'S_ulip':[]\n",
    "}\n",
    "for idx in range(len(vert_labels)):\n",
    "    part_vertices['S_overall'].append(idx)\n",
    "    if vert_labels[idx] in [label_map['eye_brow']]:\n",
    "        part_vertices['S_eyebrows'].append(idx)\n",
    "    if vert_labels[idx] in [label_map['eye']]:\n",
    "        part_vertices['S_eyes'].append(idx)\n",
    "    if vert_labels[idx] in [label_map['l_lip']]:\n",
    "        part_vertices['S_llip'].append(idx)\n",
    "    if vert_labels[idx] in [label_map['u_lip']]:\n",
    "        part_vertices['S_ulip'].append(idx)\n",
    "    if vert_labels[idx] in [label_map['nose']]:\n",
    "        part_vertices['S_nose'].append(idx)\n",
    "    \n",
    "for key in part_vertices:\n",
    "    part_vertices[key] = np.array(part_vertices[key])\n",
    "    print(key, ' n_vert: ', len(part_vertices[key]))"
   ]
  },
  {
   "cell_type": "code",
   "execution_count": 4,
   "metadata": {},
   "outputs": [],
   "source": [
    "\n",
    "def o3d_render(V, T, Faces, width=512, height=512):\n",
    "    ###############################\n",
    "    ## Visualize the render result\n",
    "    o3d_mesh = o3d.geometry.TriangleMesh()\n",
    "    o3d_mesh.vertices = o3d.utility.Vector3dVector(V) # dtype vector3d (float)\n",
    "    o3d_mesh.triangles = o3d.utility.Vector3iVector(Faces) # dtype vector3i (int)\n",
    "    if T is not None:\n",
    "        o3d_mesh.vertex_colors = o3d.utility.Vector3dVector(T) # dtype vector3i (int)\n",
    "    o3d_mesh.compute_vertex_normals() # computing normal will give specular effect while rendering\n",
    "\n",
    "    vis = o3d.visualization.Visualizer()\n",
    "    vis.create_window(width=width, height=height, visible = False)\n",
    "    vis.add_geometry(o3d_mesh)\n",
    "    #depth = vis.capture_depth_float_buffer(True)\n",
    "    image = vis.capture_screen_float_buffer(True)\n",
    "\n",
    "    return o3d_mesh, image\n"
   ]
  },
  {
   "cell_type": "raw",
   "metadata": {},
   "source": [
    "\"\"\"compute the mean shape\"\"\"\n",
    "ffhq_meanshape = np.zeros([1, 35709, 3], dtype=np.float32)\n",
    "\n",
    "counter = 0\n",
    "for idx in tqdm(img_indices):\n",
    "    shape = np.load(shape_path.format(idx))\n",
    "    ffhq_meanshape += shape\n",
    "    counter += 1\n",
    "    \n",
    "    \n",
    "ffhq_meanshape /= counter"
   ]
  },
  {
   "cell_type": "code",
   "execution_count": 5,
   "metadata": {},
   "outputs": [],
   "source": [
    "#np.save('ffhq_meanshape.npy', ffhq_meanshape) # [1, V, 3]\n",
    "ffhq_meanshape = np.load('ffhq_meanshape.npy')"
   ]
  },
  {
   "cell_type": "code",
   "execution_count": 6,
   "metadata": {},
   "outputs": [
    {
     "data": {
      "image/png": "[encoded data removed]",
      "text/plain": [
       "<Figure size 432x288 with 1 Axes>"
      ]
     },
     "metadata": {
      "needs_background": "light"
     },
     "output_type": "display_data"
    }
   ],
   "source": [
    "mesh, img = o3d_render(ffhq_meanshape[0], None, Faces)\n",
    "plt.imshow(img)\n",
    "o3d.visualization.draw_geometries([mesh])"
   ]
  },
  {
   "cell_type": "code",
   "execution_count": 7,
   "metadata": {},
   "outputs": [
    {
     "name": "stdout",
     "output_type": "stream",
     "text": [
      "VAE model on CUDA:  True\n",
      "S_overall VAE model on CUDA:  True\n",
      "S_eyebrows VAE model on CUDA:  True\n",
      "S_eyes VAE model on CUDA:  True\n",
      "S_llip VAE model on CUDA:  True\n",
      "S_nose VAE model on CUDA:  True\n",
      "S_ulip VAE model on CUDA:  True\n"
     ]
    }
   ],
   "source": [
    "class Encoder(nn.Module):\n",
    "    def __init__(self, latent_dim, n_vert):\n",
    "        super(Encoder, self).__init__()\n",
    "        self.n_vert = n_vert\n",
    "        self.fc1 = nn.Linear(3*self.n_vert, 512)\n",
    "        self.fc2 = nn.Linear(512, 128)\n",
    "        self.fc3_mu = nn.Linear(128, latent_dim)\n",
    "        self.fc3_std = nn.Linear(128, latent_dim)\n",
    "        \n",
    "    def forward(self, x):\n",
    "        #h = x\n",
    "        h = torch.flatten(x, start_dim=1)\n",
    "        h = F.relu(self.fc1(h))\n",
    "        h = F.relu(self.fc2(h))\n",
    "        mu = self.fc3_mu(h)\n",
    "        sigma = torch.exp(self.fc3_std(h))\n",
    "        return mu, sigma\n",
    "    \n",
    "class Decoder(nn.Module):\n",
    "    def __init__(self, latent_dim, n_vert):\n",
    "        super(Decoder, self).__init__()\n",
    "        self.n_vert = n_vert\n",
    "        self.fc1 = nn.Linear(latent_dim, 128)\n",
    "        self.fc2 = nn.Linear(128, 512)\n",
    "        self.fc3 = nn.Linear(512, 3*self.n_vert)\n",
    "        \n",
    "    def forward(self, z):\n",
    "        h = F.relu(self.fc1(z))\n",
    "        h = F.relu(self.fc2(h))\n",
    "        x_ = self.fc3(h)\n",
    "        return torch.reshape(x_, [-1, self.n_vert, 3])\n",
    "    \n",
    "    \n",
    "class VAE(nn.Module):\n",
    "    def __init__(self, latent_dim, n_vert):\n",
    "        super(VAE, self).__init__()\n",
    "        self.encoder = Encoder(latent_dim, n_vert)\n",
    "        self.decoder = Decoder(latent_dim, n_vert)\n",
    "        \n",
    "        self.normal = torch.distributions.Normal(0, 1) # a normal distribution with mean = 0, std = 1\n",
    "        if device.type == 'cuda':\n",
    "            self.normal.loc = self.normal.loc.cuda() # use CUDA GPU for sampling\n",
    "            self.normal.scale = self.normal.scale.cuda()\n",
    "        self.kl_loss = 0 # KL divergence loss\n",
    "        \n",
    "    def forward(self, x):\n",
    "        mu, sigma = self.encoder(x)\n",
    "        z = mu + sigma * self.normal.sample(mu.size())\n",
    "        self.kl_loss = torch.mean(torch.sum(-0.5 * (1 + sigma - mu**2 - torch.exp(sigma)), dim=1))\n",
    "        x_ = self.decoder(z)\n",
    "        return x_\n",
    "\n",
    "    \n",
    "vae = VAE(latent_dim=30, n_vert=len(part_vertices)).to(device)\n",
    "print('VAE model on CUDA: ', next(vae.parameters()).is_cuda) # True\n",
    "\n",
    "part_vaes = {}\n",
    "for key in part_vertices:\n",
    "    if key == 'S_overall':\n",
    "        latent_dim = 30\n",
    "    else:\n",
    "        latent_dim = 10\n",
    "    vae = VAE(latent_dim=latent_dim, n_vert=len(part_vertices[key])).to(device)\n",
    "    vae.load_state_dict(torch.load('../saved_models/part_vaes/{}'.format(key)))\n",
    "    part_vaes[key] = vae\n",
    "    print('{} VAE model on CUDA: '.format(key), next(vae.parameters()).is_cuda) # True\n",
    "    \n"
   ]
  },
  {
   "cell_type": "code",
   "execution_count": 8,
   "metadata": {},
   "outputs": [
    {
     "data": {
      "text/plain": [
       "Text(0.5, 1.0, 'reconstructed mean mesh')"
      ]
     },
     "execution_count": 8,
     "metadata": {},
     "output_type": "execute_result"
    },
    {
     "data": {
      "image/png": "[encoded data removed]",
      "text/plain": [
       "<Figure size 432x288 with 1 Axes>"
      ]
     },
     "metadata": {
      "needs_background": "light"
     },
     "output_type": "display_data"
    }
   ],
   "source": [
    "reconstructed = part_vaes['S_overall'](torch.from_numpy(ffhq_meanshape).to(device))\n",
    "\n",
    "mesh, img = o3d_render(reconstructed[0].detach().cpu().numpy(), None, Faces)\n",
    "plt.imshow(img)\n",
    "plt.title('reconstructed mean mesh')"
   ]
  },
  {
   "cell_type": "code",
   "execution_count": 9,
   "metadata": {},
   "outputs": [],
   "source": [
    "def standardize_part_shape(part_shapes):\n",
    "    # part_shapes: [n, n_vert, 3]  n -- batch size\n",
    "    y_max, _ = torch.max(part_shapes[...,1], dim=1) # [n, 1]\n",
    "    y_min, _ = torch.min(part_shapes[...,1], dim=1) # [n, 1]\n",
    "    y_center = (y_max + y_min) / 2 # [n, 1]\n",
    "    z_max, _ = torch.max(part_shapes[...,2], dim=1) # [n, 1]\n",
    "    z_min, _ = torch.min(part_shapes[...,2], dim=1) # [n, 1]\n",
    "    z_center = (z_max + z_min) / 2 # [n, 1]\n",
    "    batch_size = part_shapes.shape[0]\n",
    "    for i in range(batch_size):\n",
    "        part_shapes[i, :, 1] -= y_center[i]\n",
    "        part_shapes[i, :, 2] -= z_center[i]\n",
    "    return part_shapes\n"
   ]
  },
  {
   "cell_type": "raw",
   "metadata": {},
   "source": [
    "\"\"\"save meanshape latent vectors\"\"\"\n",
    "for key in part_vertices:\n",
    "    part_shape = torch.from_numpy(ffhq_meanshape[:,part_vertices[key],:]).to(device)\n",
    "    if key != 'S_overall':\n",
    "        part_shape = standardize_part_shape(part_shape)\n",
    "    mu, sigma = part_vaes[key].encoder(part_shape)\n",
    "    np.save('./cache/meanshape_latents/{}.npy'.format(key), mu.detach().cpu().numpy())\n",
    "    \n",
    "    "
   ]
  },
  {
   "cell_type": "code",
   "execution_count": null,
   "metadata": {},
   "outputs": [],
   "source": []
  },
  {
   "cell_type": "code",
   "execution_count": 10,
   "metadata": {},
   "outputs": [
    {
     "name": "stderr",
     "output_type": "stream",
     "text": [
      "100%|████████████████████████████████████████████████████████████████████████████| 68422/68422 [17:21<00:00, 65.67it/s]\n"
     ]
    }
   ],
   "source": [
    "\"\"\"process and save all ffhq shape latent vectors\"\"\"\n",
    "\n",
    "part_latents = {}\n",
    "\n",
    "file_indices = np.zeros([len(img_indices)], dtype=int)\n",
    "\n",
    "for key in part_vertices:\n",
    "    if key == 'S_overall':\n",
    "        part_latents[key] = np.zeros([len(img_indices), 30], dtype=np.float32)\n",
    "    else:\n",
    "        part_latents[key] = np.zeros([len(img_indices), 10], dtype=np.float32)\n",
    "        \n",
    "counter = 0\n",
    "for idx in tqdm(img_indices):\n",
    "    shape = np.load(shape_path.format(idx))\n",
    "    file_indices[counter] = int(idx)\n",
    "    for key in part_vertices:\n",
    "        part_shape = torch.from_numpy(shape[:,part_vertices[key],:]).to(device)\n",
    "        if key != 'S_overall':\n",
    "            part_shape = standardize_part_shape(part_shape)\n",
    "        mu, sigma = part_vaes[key].encoder(part_shape)\n",
    "        part_latents[key][counter, :] = mu.detach().cpu().numpy()\n",
    "    counter += 1\n",
    "                \n",
    "for key in part_vertices:\n",
    "    np.save('./cache/shape_latents/{}.npy'.format(key), part_latents[key])\n",
    "\n",
    "np.save('./cache/shape_latents/file_indices.npy', file_indices)\n",
    "    "
   ]
  },
  {
   "cell_type": "code",
   "execution_count": null,
   "metadata": {},
   "outputs": [],
   "source": []
  }
 ],
 "metadata": {
  "kernelspec": {
   "display_name": "Python 3",
   "language": "python",
   "name": "python3"
  },
  "language_info": {
   "codemirror_mode": {
    "name": "ipython",
    "version": 3
   },
   "file_extension": ".py",
   "mimetype": "text/x-python",
   "name": "python",
   "nbconvert_exporter": "python",
   "pygments_lexer": "ipython3",
   "version": "3.6.7rc1"
  }
 },
 "nbformat": 4,
 "nbformat_minor": 4
}
